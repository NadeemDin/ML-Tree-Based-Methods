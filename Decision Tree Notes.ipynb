{
 "cells": [
  {
   "cell_type": "markdown",
   "id": "affc9a3d",
   "metadata": {},
   "source": [
    "# Decision Tree"
   ]
  },
  {
   "cell_type": "markdown",
   "id": "49099556",
   "metadata": {},
   "source": [
    "Decision tree learning refers to statistical modeling that uses a form of decision trees where node splts are decided based on information metric (which is defined)"
   ]
  },
  {
   "cell_type": "markdown",
   "id": "01ea3ce1",
   "metadata": {},
   "source": [
    "## Terminology: \n",
    "\n",
    "- Splitting : act of taking in data at a node and splitting it for whether that condition is true or false.\n",
    "- Nodes : anywhere condition is being tested will be a node and splits into another node. \n",
    "- Root Node : First condition or feature that we check/split (first point on tree).\n",
    "- Leaf (Terminal) Node : when root splits it leaves a leaf only if at that node, data isnt split.\n",
    "- Parent and Children Nodes : relationship between node splitting into leaf or more.\n",
    "- Tree Branches (Sub Trees) : where from the root, nodes split and then split again, creating multilevels of branching.\n",
    "- Pruning : in theory making decision tree shorter by shortening nodes by making more effective conditions to avoid overfitting for more biased tree model."
   ]
  },
  {
   "cell_type": "markdown",
   "id": "393abafb",
   "metadata": {},
   "source": [
    "## Gini Impurity:\n",
    "\n",
    "- Most common information measurement for decision trees.\n",
    "- Mathematical measurement of how 'pure' the information in a data set is.\n",
    "- in regards to classification we can think of this as a measuremnet of class uniformity.\n",
    "- lower Gini Impurity value, more purity in data set. (more dominant classes)\n",
    "- max purity is where GI is equal to 0.\n",
    "\n",
    "- if decision tree used to separate out classes we can use gini impurity to decide on data split values.\n",
    "- aim to minimise GI at lead nodes = means separating classes effectively. \n"
   ]
  },
  {
   "cell_type": "markdown",
   "id": "72728b2f",
   "metadata": {},
   "source": [
    "import pandas as pd\n",
    "import numpy as np\n",
    "import seaborn as sns\n",
    "import matplotlib.pyplot as plt\n",
    "%matplotlib inline "
   ]
  },
  {
   "cell_type": "code",
   "execution_count": null,
   "id": "9e0557f1",
   "metadata": {},
   "outputs": [],
   "source": []
  }
 ],
 "metadata": {
  "kernelspec": {
   "display_name": "Python 3 (ipykernel)",
   "language": "python",
   "name": "python3"
  },
  "language_info": {
   "codemirror_mode": {
    "name": "ipython",
    "version": 3
   },
   "file_extension": ".py",
   "mimetype": "text/x-python",
   "name": "python",
   "nbconvert_exporter": "python",
   "pygments_lexer": "ipython3",
   "version": "3.9.13"
  }
 },
 "nbformat": 4,
 "nbformat_minor": 5
}
