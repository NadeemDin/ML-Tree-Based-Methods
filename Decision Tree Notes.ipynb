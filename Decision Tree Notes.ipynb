{
 "cells": [
  {
   "cell_type": "markdown",
   "id": "f3a75070",
   "metadata": {},
   "source": [
    "# Decision Tree"
   ]
  },
  {
   "cell_type": "markdown",
   "id": "81d5cdff",
   "metadata": {},
   "source": [
    "Decision tree learning refers to statistical modeling that uses a form of decision trees where node splts are decided based on information metric (which is defined)"
   ]
  },
  {
   "cell_type": "markdown",
   "id": "f7db7ce7",
   "metadata": {},
   "source": [
    "## Terminology \n",
    "\n",
    "- Splitting : act of taking in data at a node and splitting it for whether that condition is true or false.\n",
    "- Nodes : anywhere condition is being tested will be a node and splits into another node. \n",
    "- Root Node : First condition or feature that we check/split (first point on tree).\n",
    "- Leaf (Terminal) Node : when root splits it leaves a leaf only if at that node, data isnt split.\n",
    "- Parent and Children Nodes : relationship between node splitting into leaf or more.\n",
    "- Tree Branches (Sub Trees) : where from the root, nodes split and then split again, creating multilevels of branching.\n",
    "- Pruning : in theory making decision tree shorter by shortening nodes by making more effective conditions to avoid overfitting for more biased tree model."
   ]
  },
  {
   "cell_type": "code",
   "execution_count": null,
   "id": "f02edd9c",
   "metadata": {},
   "outputs": [],
   "source": []
  }
 ],
 "metadata": {
  "kernelspec": {
   "display_name": "Python 3 (ipykernel)",
   "language": "python",
   "name": "python3"
  },
  "language_info": {
   "codemirror_mode": {
    "name": "ipython",
    "version": 3
   },
   "file_extension": ".py",
   "mimetype": "text/x-python",
   "name": "python",
   "nbconvert_exporter": "python",
   "pygments_lexer": "ipython3",
   "version": "3.9.13"
  }
 },
 "nbformat": 4,
 "nbformat_minor": 5
}
